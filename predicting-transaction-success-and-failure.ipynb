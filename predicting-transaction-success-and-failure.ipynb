{
 "cells": [
  {
   "cell_type": "code",
   "execution_count": 1,
   "id": "2469cc14",
   "metadata": {
    "_cell_guid": "b1076dfc-b9ad-4769-8c92-a6c4dae69d19",
    "_uuid": "8f2839f25d086af736a60e9eeb907d3b93b6e0e5",
    "execution": {
     "iopub.execute_input": "2024-07-13T03:21:38.891898Z",
     "iopub.status.busy": "2024-07-13T03:21:38.891490Z",
     "iopub.status.idle": "2024-07-13T03:21:39.823205Z",
     "shell.execute_reply": "2024-07-13T03:21:39.821536Z"
    },
    "papermill": {
     "duration": 0.938953,
     "end_time": "2024-07-13T03:21:39.826305",
     "exception": false,
     "start_time": "2024-07-13T03:21:38.887352",
     "status": "completed"
    },
    "tags": []
   },
   "outputs": [
    {
     "name": "stdout",
     "output_type": "stream",
     "text": [
      "                         Transaction ID            Timestamp      Sender Name  \\\n",
      "0  4d3db980-46cd-4158-a812-dcb77055d0d2  2024-06-22 04:06:38        Tiya Mall   \n",
      "1  099ee548-2fc1-4811-bf92-559c467ca792  2024-06-19 06:04:49  Mohanlal Bakshi   \n",
      "2  d4c05732-6b1b-4bab-90b9-efe09d252b99  2024-06-04 04:56:09      Kismat Bora   \n",
      "3  e8df92ee-8b04-4133-af5a-5f412180c8ab  2024-06-09 09:56:07    Ayesha Korpal   \n",
      "4  e7d675d3-04f1-419c-a841-7a04662560b7  2024-06-25 08:38:19      Jivin Batta   \n",
      "\n",
      "           Sender UPI ID   Receiver Name     Receiver UPI ID  Amount (INR)  \\\n",
      "0      4161803452@okaxis  Mohanlal Golla    7776849307@okybl       3907.34   \n",
      "1      8908837379@okaxis  Mehul Sankaran   7683454560@okaxis       8404.55   \n",
      "2       4633654150@okybl       Diya Goel  2598130823@okicici        941.88   \n",
      "3  7018842771@okhdfcbank    Rhea Kothari   2246623650@okaxis       8926.00   \n",
      "4       1977143985@okybl     Baiju Issac    5245672729@okybl       2800.55   \n",
      "\n",
      "    Status  \n",
      "0   FAILED  \n",
      "1  SUCCESS  \n",
      "2  SUCCESS  \n",
      "3  SUCCESS  \n",
      "4  SUCCESS  \n",
      "<class 'pandas.core.frame.DataFrame'>\n",
      "RangeIndex: 1000 entries, 0 to 999\n",
      "Data columns (total 8 columns):\n",
      " #   Column           Non-Null Count  Dtype  \n",
      "---  ------           --------------  -----  \n",
      " 0   Transaction ID   1000 non-null   object \n",
      " 1   Timestamp        1000 non-null   object \n",
      " 2   Sender Name      1000 non-null   object \n",
      " 3   Sender UPI ID    1000 non-null   object \n",
      " 4   Receiver Name    1000 non-null   object \n",
      " 5   Receiver UPI ID  1000 non-null   object \n",
      " 6   Amount (INR)     1000 non-null   float64\n",
      " 7   Status           1000 non-null   object \n",
      "dtypes: float64(1), object(7)\n",
      "memory usage: 62.6+ KB\n",
      "None\n"
     ]
    }
   ],
   "source": [
    "import pandas as pd\n",
    "\n",
    "# Load the dataset\n",
    "df = pd.read_csv(\"/kaggle/input/upi-payment-transactions-dataset/transactions.csv\")\n",
    "\n",
    "# Display the first few rows of the dataset\n",
    "print(df.head())\n",
    "# Check for missing values and data types\n",
    "print(df.info())"
   ]
  },
  {
   "cell_type": "code",
   "execution_count": 2,
   "id": "b093efca",
   "metadata": {
    "execution": {
     "iopub.execute_input": "2024-07-13T03:21:39.832867Z",
     "iopub.status.busy": "2024-07-13T03:21:39.832485Z",
     "iopub.status.idle": "2024-07-13T03:21:41.234317Z",
     "shell.execute_reply": "2024-07-13T03:21:41.232759Z"
    },
    "papermill": {
     "duration": 1.408072,
     "end_time": "2024-07-13T03:21:41.237089",
     "exception": false,
     "start_time": "2024-07-13T03:21:39.829017",
     "status": "completed"
    },
    "tags": []
   },
   "outputs": [],
   "source": [
    "from sklearn.model_selection import train_test_split\n",
    "from sklearn.preprocessing import LabelEncoder\n",
    "\n",
    "# Encode categorical variables\n",
    "label_encoder = LabelEncoder()\n",
    "df['Sender Name'] = label_encoder.fit_transform(df['Sender Name'])\n",
    "df['Sender UPI ID'] = label_encoder.fit_transform(df['Sender UPI ID'])\n",
    "df['Receiver Name'] = label_encoder.fit_transform(df['Receiver Name'])\n",
    "df['Receiver UPI ID'] = label_encoder.fit_transform(df['Receiver UPI ID'])\n",
    "df['Status'] = label_encoder.fit_transform(df['Status'])\n",
    "\n",
    "# Convert Timestamp to datetime and extract features\n",
    "df['Timestamp'] = pd.to_datetime(df['Timestamp'])\n",
    "df['Year'] = df['Timestamp'].dt.year\n",
    "df['Month'] = df['Timestamp'].dt.month\n",
    "df['Day'] = df['Timestamp'].dt.day\n",
    "df['Hour'] = df['Timestamp'].dt.hour\n",
    "\n",
    "# Drop the original Timestamp column\n",
    "df.drop(columns=['Timestamp', 'Transaction ID'], inplace=True)\n",
    "\n",
    "# Define features and target variable\n",
    "X = df.drop(columns=['Status'])\n",
    "y = df['Status']\n",
    "\n",
    "# Split the data into training and testing sets\n",
    "X_train, X_test, y_train, y_test = train_test_split(X, y, test_size=0.2, random_state=42)"
   ]
  },
  {
   "cell_type": "code",
   "execution_count": 3,
   "id": "e123cbf2",
   "metadata": {
    "execution": {
     "iopub.execute_input": "2024-07-13T03:21:41.242946Z",
     "iopub.status.busy": "2024-07-13T03:21:41.242500Z",
     "iopub.status.idle": "2024-07-13T03:21:41.868493Z",
     "shell.execute_reply": "2024-07-13T03:21:41.866328Z"
    },
    "papermill": {
     "duration": 0.632574,
     "end_time": "2024-07-13T03:21:41.871644",
     "exception": false,
     "start_time": "2024-07-13T03:21:41.239070",
     "status": "completed"
    },
    "tags": []
   },
   "outputs": [
    {
     "name": "stdout",
     "output_type": "stream",
     "text": [
      "Accuracy: 0.49\n",
      "Classification Report:\n",
      "               precision    recall  f1-score   support\n",
      "\n",
      "           0       0.47      0.48      0.48        97\n",
      "           1       0.50      0.50      0.50       103\n",
      "\n",
      "    accuracy                           0.49       200\n",
      "   macro avg       0.49      0.49      0.49       200\n",
      "weighted avg       0.49      0.49      0.49       200\n",
      "\n",
      "Confusion Matrix:\n",
      " [[47 50]\n",
      " [52 51]]\n"
     ]
    }
   ],
   "source": [
    "from sklearn.ensemble import RandomForestClassifier\n",
    "from sklearn.metrics import classification_report, accuracy_score, confusion_matrix\n",
    "\n",
    "# Initialize the model\n",
    "model = RandomForestClassifier(n_estimators=100, random_state=42)\n",
    "\n",
    "# Train the model\n",
    "model.fit(X_train, y_train)\n",
    "\n",
    "# Make predictions on the test set\n",
    "y_pred = model.predict(X_test)\n",
    "\n",
    "# Evaluate the model\n",
    "print(\"Accuracy:\", accuracy_score(y_test, y_pred))\n",
    "print(\"Classification Report:\\n\", classification_report(y_test, y_pred))\n",
    "print(\"Confusion Matrix:\\n\", confusion_matrix(y_test, y_pred))"
   ]
  },
  {
   "cell_type": "code",
   "execution_count": 4,
   "id": "1326f059",
   "metadata": {
    "execution": {
     "iopub.execute_input": "2024-07-13T03:21:41.878144Z",
     "iopub.status.busy": "2024-07-13T03:21:41.877751Z",
     "iopub.status.idle": "2024-07-13T03:21:42.242964Z",
     "shell.execute_reply": "2024-07-13T03:21:42.240954Z"
    },
    "papermill": {
     "duration": 0.371428,
     "end_time": "2024-07-13T03:21:42.245755",
     "exception": false,
     "start_time": "2024-07-13T03:21:41.874327",
     "status": "completed"
    },
    "tags": []
   },
   "outputs": [
    {
     "name": "stdout",
     "output_type": "stream",
     "text": [
      "XGBoost Accuracy: 0.505\n",
      "XGBoost Classification Report:\n",
      "               precision    recall  f1-score   support\n",
      "\n",
      "           0       0.49      0.49      0.49        97\n",
      "           1       0.52      0.51      0.52       103\n",
      "\n",
      "    accuracy                           0.51       200\n",
      "   macro avg       0.50      0.50      0.50       200\n",
      "weighted avg       0.51      0.51      0.51       200\n",
      "\n",
      "XGBoost Confusion Matrix:\n",
      " [[48 49]\n",
      " [50 53]]\n"
     ]
    }
   ],
   "source": [
    "import xgboost as xgb\n",
    "\n",
    "# Initialize the XGBoost model\n",
    "xgb_model = xgb.XGBClassifier(use_label_encoder=False, eval_metric='logloss')\n",
    "\n",
    "# Train the XGBoost model\n",
    "xgb_model.fit(X_train, y_train)\n",
    "\n",
    "# Make predictions on the test set\n",
    "y_pred_xgb = xgb_model.predict(X_test)\n",
    "\n",
    "# Evaluate the XGBoost model\n",
    "print(\"XGBoost Accuracy:\", accuracy_score(y_test, y_pred_xgb))\n",
    "print(\"XGBoost Classification Report:\\n\", classification_report(y_test, y_pred_xgb))\n",
    "print(\"XGBoost Confusion Matrix:\\n\", confusion_matrix(y_test, y_pred_xgb))"
   ]
  }
 ],
 "metadata": {
  "kaggle": {
   "accelerator": "none",
   "dataSources": [
    {
     "datasetId": 5328314,
     "sourceId": 8851921,
     "sourceType": "datasetVersion"
    }
   ],
   "dockerImageVersionId": 30746,
   "isGpuEnabled": false,
   "isInternetEnabled": true,
   "language": "python",
   "sourceType": "notebook"
  },
  "kernelspec": {
   "display_name": "Python 3",
   "language": "python",
   "name": "python3"
  },
  "language_info": {
   "codemirror_mode": {
    "name": "ipython",
    "version": 3
   },
   "file_extension": ".py",
   "mimetype": "text/x-python",
   "name": "python",
   "nbconvert_exporter": "python",
   "pygments_lexer": "ipython3",
   "version": "3.10.13"
  },
  "papermill": {
   "default_parameters": {},
   "duration": 7.281841,
   "end_time": "2024-07-13T03:21:43.071194",
   "environment_variables": {},
   "exception": null,
   "input_path": "__notebook__.ipynb",
   "output_path": "__notebook__.ipynb",
   "parameters": {},
   "start_time": "2024-07-13T03:21:35.789353",
   "version": "2.5.0"
  }
 },
 "nbformat": 4,
 "nbformat_minor": 5
}
